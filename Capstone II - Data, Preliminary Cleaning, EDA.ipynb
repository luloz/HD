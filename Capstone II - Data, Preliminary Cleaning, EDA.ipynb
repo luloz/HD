{
 "cells": [
  {
   "cell_type": "markdown",
   "metadata": {},
   "source": [
    "# Capstone II\n",
    "Luis Lozada"
   ]
  },
  {
   "cell_type": "markdown",
   "metadata": {},
   "source": [
    "1. Identifies which of the three proposals you outlined in your lightning talk you have chosen <br>\n",
    "      <br>\n",
    "    <b>Heart Disease Prediction\n",
    "***\n",
    "2. Articulates the main goal of your project (your problem statement) <br>\n",
    "    <br>\n",
    "    Heart Disease is the leading cause of death in the United States, ahead of cancer, respiratory infection, and accidents. For this reason, I think it vital to inform individuals of their risk. My goal is to great a regression model which predicts a patient's risk for heart disease given their demographic information, medical examination (blood pressure, labs, illnesses), and lifestyle (smoking, diet). \n",
    "***\n",
    "3. Outlines your proposed methods and models <br>\n",
    "    <br>\n",
    "    All data will come from publicly available governmental sources and include demographic, locational, and self survey.\n",
    "        1. Inspect datasets (and data dictionaries) for inclusion in the project\n",
    "        2. If pass, preliminary cleaning, eda, sanity checks\n",
    "        3. Arrive at clean dataset\n",
    "        4. Build a Linear Regression Model to get a baseline\n",
    "        5. Go from there... (I'm not sure what I will find so it is difficult for me to predict)\n",
    "***\n",
    "4. Defines the risks & assumptions of your data<br>\n",
    "    <br>\n",
    "    The benefit of using publicly available data is that much of it is already in CSV format. However, this implies heavy preprocessing on the hands of the primary researchers which I am not privy to. There is also the problem of selection bias when it comes to the survey data. The vast majority of data is of people which suffer from heart disease as oppossed ot healthy individuals. \n",
    "***\n",
    "5. Revises initial goals & success criteria, as needed<br>\n",
    "    <br>\n",
    "    kk\n",
    "***\n",
    "6. Document your data source<br>\n",
    "    <br>\n",
    "    1. https://www.kaggle.com/cdc/national-health-and-nutrition-examination-survey\n",
    "    2. https://chronicdata.cdc.gov/Heart-Disease-Stroke-Prevention/Behavioral-Risk-Factor-Data-Heart-Disease-Stroke-P/4ny5-qn3w\n",
    "    3. https://www.kaggle.com/cdc/mortality\n",
    "***\n",
    "7. Performs & summarizes preliminary EDA of your data"
   ]
  },
  {
   "cell_type": "markdown",
   "metadata": {},
   "source": [
    "# National Health and Nutrition Examination Survey\n",
    "## NHANES datasets from 2013-2014"
   ]
  },
  {
   "cell_type": "code",
   "execution_count": 1,
   "metadata": {},
   "outputs": [],
   "source": [
    "import pandas as pd"
   ]
  },
  {
   "cell_type": "code",
   "execution_count": 2,
   "metadata": {},
   "outputs": [],
   "source": [
    "demographics = pd.read_csv('./national-health-and-nutrition-examination-survey/demographic.csv')"
   ]
  },
  {
   "cell_type": "code",
   "execution_count": 3,
   "metadata": {},
   "outputs": [],
   "source": [
    "diet = pd.read_csv('./national-health-and-nutrition-examination-survey/diet.csv')"
   ]
  },
  {
   "cell_type": "code",
   "execution_count": 4,
   "metadata": {},
   "outputs": [],
   "source": [
    "exam = pd.read_csv('./national-health-and-nutrition-examination-survey/examination.csv')"
   ]
  },
  {
   "cell_type": "code",
   "execution_count": 5,
   "metadata": {},
   "outputs": [],
   "source": [
    "labs = pd.read_csv('./national-health-and-nutrition-examination-survey/labs.csv')"
   ]
  },
  {
   "cell_type": "code",
   "execution_count": 6,
   "metadata": {},
   "outputs": [],
   "source": [
    "meds = pd.read_csv('./national-health-and-nutrition-examination-survey/medications.csv', encoding='unicode_escape')"
   ]
  },
  {
   "cell_type": "code",
   "execution_count": 7,
   "metadata": {},
   "outputs": [],
   "source": [
    "questionnaire = pd.read_csv('./national-health-and-nutrition-examination-survey/questionnaire.csv')"
   ]
  },
  {
   "cell_type": "code",
   "execution_count": 8,
   "metadata": {},
   "outputs": [],
   "source": [
    "data = [demographics, diet, exam, labs, meds, questionnaire]"
   ]
  },
  {
   "cell_type": "code",
   "execution_count": 9,
   "metadata": {},
   "outputs": [
    {
     "name": "stdout",
     "output_type": "stream",
     "text": [
      "(10175, 47)\n",
      "(9813, 168)\n",
      "(9813, 224)\n",
      "(9813, 424)\n",
      "(20194, 13)\n",
      "(10175, 953)\n"
     ]
    }
   ],
   "source": [
    "for each in data:\n",
    "    print(each.shape)"
   ]
  },
  {
   "cell_type": "code",
   "execution_count": 10,
   "metadata": {},
   "outputs": [
    {
     "data": {
      "text/html": [
       "<div>\n",
       "<style scoped>\n",
       "    .dataframe tbody tr th:only-of-type {\n",
       "        vertical-align: middle;\n",
       "    }\n",
       "\n",
       "    .dataframe tbody tr th {\n",
       "        vertical-align: top;\n",
       "    }\n",
       "\n",
       "    .dataframe thead th {\n",
       "        text-align: right;\n",
       "    }\n",
       "</style>\n",
       "<table border=\"1\" class=\"dataframe\">\n",
       "  <thead>\n",
       "    <tr style=\"text-align: right;\">\n",
       "      <th></th>\n",
       "      <th>SEQN</th>\n",
       "      <th>SDDSRVYR</th>\n",
       "      <th>RIDSTATR</th>\n",
       "      <th>RIAGENDR</th>\n",
       "      <th>RIDAGEYR</th>\n",
       "      <th>RIDAGEMN</th>\n",
       "      <th>RIDRETH1</th>\n",
       "      <th>RIDRETH3</th>\n",
       "      <th>RIDEXMON</th>\n",
       "      <th>RIDEXAGM</th>\n",
       "      <th>...</th>\n",
       "      <th>DMDHREDU</th>\n",
       "      <th>DMDHRMAR</th>\n",
       "      <th>DMDHSEDU</th>\n",
       "      <th>WTINT2YR</th>\n",
       "      <th>WTMEC2YR</th>\n",
       "      <th>SDMVPSU</th>\n",
       "      <th>SDMVSTRA</th>\n",
       "      <th>INDHHIN2</th>\n",
       "      <th>INDFMIN2</th>\n",
       "      <th>INDFMPIR</th>\n",
       "    </tr>\n",
       "  </thead>\n",
       "  <tbody>\n",
       "    <tr>\n",
       "      <th>0</th>\n",
       "      <td>73557</td>\n",
       "      <td>8</td>\n",
       "      <td>2</td>\n",
       "      <td>1</td>\n",
       "      <td>69</td>\n",
       "      <td>NaN</td>\n",
       "      <td>4</td>\n",
       "      <td>4</td>\n",
       "      <td>1.0</td>\n",
       "      <td>NaN</td>\n",
       "      <td>...</td>\n",
       "      <td>3.0</td>\n",
       "      <td>4.0</td>\n",
       "      <td>NaN</td>\n",
       "      <td>13281.237386</td>\n",
       "      <td>13481.042095</td>\n",
       "      <td>1</td>\n",
       "      <td>112</td>\n",
       "      <td>4.0</td>\n",
       "      <td>4.0</td>\n",
       "      <td>0.84</td>\n",
       "    </tr>\n",
       "    <tr>\n",
       "      <th>1</th>\n",
       "      <td>73558</td>\n",
       "      <td>8</td>\n",
       "      <td>2</td>\n",
       "      <td>1</td>\n",
       "      <td>54</td>\n",
       "      <td>NaN</td>\n",
       "      <td>3</td>\n",
       "      <td>3</td>\n",
       "      <td>1.0</td>\n",
       "      <td>NaN</td>\n",
       "      <td>...</td>\n",
       "      <td>3.0</td>\n",
       "      <td>1.0</td>\n",
       "      <td>1.0</td>\n",
       "      <td>23682.057386</td>\n",
       "      <td>24471.769625</td>\n",
       "      <td>1</td>\n",
       "      <td>108</td>\n",
       "      <td>7.0</td>\n",
       "      <td>7.0</td>\n",
       "      <td>1.78</td>\n",
       "    </tr>\n",
       "    <tr>\n",
       "      <th>2</th>\n",
       "      <td>73559</td>\n",
       "      <td>8</td>\n",
       "      <td>2</td>\n",
       "      <td>1</td>\n",
       "      <td>72</td>\n",
       "      <td>NaN</td>\n",
       "      <td>3</td>\n",
       "      <td>3</td>\n",
       "      <td>2.0</td>\n",
       "      <td>NaN</td>\n",
       "      <td>...</td>\n",
       "      <td>4.0</td>\n",
       "      <td>1.0</td>\n",
       "      <td>3.0</td>\n",
       "      <td>57214.803319</td>\n",
       "      <td>57193.285376</td>\n",
       "      <td>1</td>\n",
       "      <td>109</td>\n",
       "      <td>10.0</td>\n",
       "      <td>10.0</td>\n",
       "      <td>4.51</td>\n",
       "    </tr>\n",
       "    <tr>\n",
       "      <th>3</th>\n",
       "      <td>73560</td>\n",
       "      <td>8</td>\n",
       "      <td>2</td>\n",
       "      <td>1</td>\n",
       "      <td>9</td>\n",
       "      <td>NaN</td>\n",
       "      <td>3</td>\n",
       "      <td>3</td>\n",
       "      <td>1.0</td>\n",
       "      <td>119.0</td>\n",
       "      <td>...</td>\n",
       "      <td>3.0</td>\n",
       "      <td>1.0</td>\n",
       "      <td>4.0</td>\n",
       "      <td>55201.178592</td>\n",
       "      <td>55766.512438</td>\n",
       "      <td>2</td>\n",
       "      <td>109</td>\n",
       "      <td>9.0</td>\n",
       "      <td>9.0</td>\n",
       "      <td>2.52</td>\n",
       "    </tr>\n",
       "    <tr>\n",
       "      <th>4</th>\n",
       "      <td>73561</td>\n",
       "      <td>8</td>\n",
       "      <td>2</td>\n",
       "      <td>2</td>\n",
       "      <td>73</td>\n",
       "      <td>NaN</td>\n",
       "      <td>3</td>\n",
       "      <td>3</td>\n",
       "      <td>1.0</td>\n",
       "      <td>NaN</td>\n",
       "      <td>...</td>\n",
       "      <td>5.0</td>\n",
       "      <td>1.0</td>\n",
       "      <td>5.0</td>\n",
       "      <td>63709.667069</td>\n",
       "      <td>65541.871229</td>\n",
       "      <td>2</td>\n",
       "      <td>116</td>\n",
       "      <td>15.0</td>\n",
       "      <td>15.0</td>\n",
       "      <td>5.00</td>\n",
       "    </tr>\n",
       "  </tbody>\n",
       "</table>\n",
       "<p>5 rows × 47 columns</p>\n",
       "</div>"
      ],
      "text/plain": [
       "    SEQN  SDDSRVYR  RIDSTATR  RIAGENDR  RIDAGEYR  RIDAGEMN  RIDRETH1  \\\n",
       "0  73557         8         2         1        69       NaN         4   \n",
       "1  73558         8         2         1        54       NaN         3   \n",
       "2  73559         8         2         1        72       NaN         3   \n",
       "3  73560         8         2         1         9       NaN         3   \n",
       "4  73561         8         2         2        73       NaN         3   \n",
       "\n",
       "   RIDRETH3  RIDEXMON  RIDEXAGM    ...     DMDHREDU  DMDHRMAR  DMDHSEDU  \\\n",
       "0         4       1.0       NaN    ...          3.0       4.0       NaN   \n",
       "1         3       1.0       NaN    ...          3.0       1.0       1.0   \n",
       "2         3       2.0       NaN    ...          4.0       1.0       3.0   \n",
       "3         3       1.0     119.0    ...          3.0       1.0       4.0   \n",
       "4         3       1.0       NaN    ...          5.0       1.0       5.0   \n",
       "\n",
       "       WTINT2YR      WTMEC2YR  SDMVPSU  SDMVSTRA  INDHHIN2  INDFMIN2  INDFMPIR  \n",
       "0  13281.237386  13481.042095        1       112       4.0       4.0      0.84  \n",
       "1  23682.057386  24471.769625        1       108       7.0       7.0      1.78  \n",
       "2  57214.803319  57193.285376        1       109      10.0      10.0      4.51  \n",
       "3  55201.178592  55766.512438        2       109       9.0       9.0      2.52  \n",
       "4  63709.667069  65541.871229        2       116      15.0      15.0      5.00  \n",
       "\n",
       "[5 rows x 47 columns]"
      ]
     },
     "execution_count": 10,
     "metadata": {},
     "output_type": "execute_result"
    }
   ],
   "source": [
    "demographics.head()"
   ]
  },
  {
   "cell_type": "code",
   "execution_count": null,
   "metadata": {},
   "outputs": [],
   "source": []
  },
  {
   "cell_type": "code",
   "execution_count": null,
   "metadata": {},
   "outputs": [],
   "source": []
  },
  {
   "cell_type": "markdown",
   "metadata": {},
   "source": [
    "# Behavioral Risk Factor Data: Heart Disease & Stroke Prevention\n",
    "CDC"
   ]
  },
  {
   "cell_type": "code",
   "execution_count": 11,
   "metadata": {},
   "outputs": [],
   "source": [
    "df = pd.read_csv('./dataset.csv')"
   ]
  },
  {
   "cell_type": "code",
   "execution_count": 12,
   "metadata": {},
   "outputs": [
    {
     "data": {
      "text/html": [
       "<div>\n",
       "<style scoped>\n",
       "    .dataframe tbody tr th:only-of-type {\n",
       "        vertical-align: middle;\n",
       "    }\n",
       "\n",
       "    .dataframe tbody tr th {\n",
       "        vertical-align: top;\n",
       "    }\n",
       "\n",
       "    .dataframe thead th {\n",
       "        text-align: right;\n",
       "    }\n",
       "</style>\n",
       "<table border=\"1\" class=\"dataframe\">\n",
       "  <thead>\n",
       "    <tr style=\"text-align: right;\">\n",
       "      <th></th>\n",
       "      <th>Year</th>\n",
       "      <th>LocationAbbr</th>\n",
       "      <th>LocationDesc</th>\n",
       "      <th>Datasource</th>\n",
       "      <th>PriorityArea1</th>\n",
       "      <th>PriorityArea2</th>\n",
       "      <th>PriorityArea3</th>\n",
       "      <th>PriorityArea4</th>\n",
       "      <th>Category</th>\n",
       "      <th>Topic</th>\n",
       "      <th>...</th>\n",
       "      <th>Break_Out_Category</th>\n",
       "      <th>Break_out</th>\n",
       "      <th>CategoryID</th>\n",
       "      <th>TopicID</th>\n",
       "      <th>IndicatorID</th>\n",
       "      <th>Data_Value_TypeID</th>\n",
       "      <th>BreakoutCategoryID</th>\n",
       "      <th>BreakOutID</th>\n",
       "      <th>LocationID</th>\n",
       "      <th>GeoLocation</th>\n",
       "    </tr>\n",
       "  </thead>\n",
       "  <tbody>\n",
       "    <tr>\n",
       "      <th>0</th>\n",
       "      <td>2011</td>\n",
       "      <td>AL</td>\n",
       "      <td>Alabama</td>\n",
       "      <td>BRFSS</td>\n",
       "      <td>None</td>\n",
       "      <td>None</td>\n",
       "      <td>None</td>\n",
       "      <td>None</td>\n",
       "      <td>Cardiovascular Diseases</td>\n",
       "      <td>Major Cardiovascular Disease</td>\n",
       "      <td>...</td>\n",
       "      <td>Overall</td>\n",
       "      <td>Overall</td>\n",
       "      <td>C1</td>\n",
       "      <td>T1</td>\n",
       "      <td>BR001</td>\n",
       "      <td>AgeStdz</td>\n",
       "      <td>BOC01</td>\n",
       "      <td>OVR01</td>\n",
       "      <td>1</td>\n",
       "      <td>(32.84057112200048, -86.63186076199969)</td>\n",
       "    </tr>\n",
       "    <tr>\n",
       "      <th>1</th>\n",
       "      <td>2011</td>\n",
       "      <td>AL</td>\n",
       "      <td>Alabama</td>\n",
       "      <td>BRFSS</td>\n",
       "      <td>None</td>\n",
       "      <td>None</td>\n",
       "      <td>None</td>\n",
       "      <td>None</td>\n",
       "      <td>Cardiovascular Diseases</td>\n",
       "      <td>Major Cardiovascular Disease</td>\n",
       "      <td>...</td>\n",
       "      <td>Overall</td>\n",
       "      <td>Overall</td>\n",
       "      <td>C1</td>\n",
       "      <td>T1</td>\n",
       "      <td>BR001</td>\n",
       "      <td>Crude</td>\n",
       "      <td>BOC01</td>\n",
       "      <td>OVR01</td>\n",
       "      <td>1</td>\n",
       "      <td>(32.84057112200048, -86.63186076199969)</td>\n",
       "    </tr>\n",
       "    <tr>\n",
       "      <th>2</th>\n",
       "      <td>2011</td>\n",
       "      <td>AL</td>\n",
       "      <td>Alabama</td>\n",
       "      <td>BRFSS</td>\n",
       "      <td>None</td>\n",
       "      <td>None</td>\n",
       "      <td>None</td>\n",
       "      <td>None</td>\n",
       "      <td>Cardiovascular Diseases</td>\n",
       "      <td>Major Cardiovascular Disease</td>\n",
       "      <td>...</td>\n",
       "      <td>Gender</td>\n",
       "      <td>Male</td>\n",
       "      <td>C1</td>\n",
       "      <td>T1</td>\n",
       "      <td>BR001</td>\n",
       "      <td>Crude</td>\n",
       "      <td>BOC02</td>\n",
       "      <td>GEN01</td>\n",
       "      <td>1</td>\n",
       "      <td>(32.84057112200048, -86.63186076199969)</td>\n",
       "    </tr>\n",
       "    <tr>\n",
       "      <th>3</th>\n",
       "      <td>2011</td>\n",
       "      <td>AL</td>\n",
       "      <td>Alabama</td>\n",
       "      <td>BRFSS</td>\n",
       "      <td>None</td>\n",
       "      <td>None</td>\n",
       "      <td>None</td>\n",
       "      <td>None</td>\n",
       "      <td>Cardiovascular Diseases</td>\n",
       "      <td>Major Cardiovascular Disease</td>\n",
       "      <td>...</td>\n",
       "      <td>Gender</td>\n",
       "      <td>Male</td>\n",
       "      <td>C1</td>\n",
       "      <td>T1</td>\n",
       "      <td>BR001</td>\n",
       "      <td>AgeStdz</td>\n",
       "      <td>BOC02</td>\n",
       "      <td>GEN01</td>\n",
       "      <td>1</td>\n",
       "      <td>(32.84057112200048, -86.63186076199969)</td>\n",
       "    </tr>\n",
       "    <tr>\n",
       "      <th>4</th>\n",
       "      <td>2011</td>\n",
       "      <td>AL</td>\n",
       "      <td>Alabama</td>\n",
       "      <td>BRFSS</td>\n",
       "      <td>None</td>\n",
       "      <td>None</td>\n",
       "      <td>None</td>\n",
       "      <td>None</td>\n",
       "      <td>Cardiovascular Diseases</td>\n",
       "      <td>Major Cardiovascular Disease</td>\n",
       "      <td>...</td>\n",
       "      <td>Gender</td>\n",
       "      <td>Female</td>\n",
       "      <td>C1</td>\n",
       "      <td>T1</td>\n",
       "      <td>BR001</td>\n",
       "      <td>AgeStdz</td>\n",
       "      <td>BOC02</td>\n",
       "      <td>GEN02</td>\n",
       "      <td>1</td>\n",
       "      <td>(32.84057112200048, -86.63186076199969)</td>\n",
       "    </tr>\n",
       "  </tbody>\n",
       "</table>\n",
       "<p>5 rows × 29 columns</p>\n",
       "</div>"
      ],
      "text/plain": [
       "   Year LocationAbbr LocationDesc Datasource PriorityArea1 PriorityArea2  \\\n",
       "0  2011           AL      Alabama      BRFSS          None          None   \n",
       "1  2011           AL      Alabama      BRFSS          None          None   \n",
       "2  2011           AL      Alabama      BRFSS          None          None   \n",
       "3  2011           AL      Alabama      BRFSS          None          None   \n",
       "4  2011           AL      Alabama      BRFSS          None          None   \n",
       "\n",
       "  PriorityArea3 PriorityArea4                 Category  \\\n",
       "0          None          None  Cardiovascular Diseases   \n",
       "1          None          None  Cardiovascular Diseases   \n",
       "2          None          None  Cardiovascular Diseases   \n",
       "3          None          None  Cardiovascular Diseases   \n",
       "4          None          None  Cardiovascular Diseases   \n",
       "\n",
       "                          Topic                   ...                     \\\n",
       "0  Major Cardiovascular Disease                   ...                      \n",
       "1  Major Cardiovascular Disease                   ...                      \n",
       "2  Major Cardiovascular Disease                   ...                      \n",
       "3  Major Cardiovascular Disease                   ...                      \n",
       "4  Major Cardiovascular Disease                   ...                      \n",
       "\n",
       "  Break_Out_Category Break_out CategoryID  TopicID  IndicatorID  \\\n",
       "0            Overall   Overall         C1       T1        BR001   \n",
       "1            Overall   Overall         C1       T1        BR001   \n",
       "2             Gender      Male         C1       T1        BR001   \n",
       "3             Gender      Male         C1       T1        BR001   \n",
       "4             Gender    Female         C1       T1        BR001   \n",
       "\n",
       "  Data_Value_TypeID BreakoutCategoryID  BreakOutID  LocationID  \\\n",
       "0           AgeStdz              BOC01       OVR01           1   \n",
       "1             Crude              BOC01       OVR01           1   \n",
       "2             Crude              BOC02       GEN01           1   \n",
       "3           AgeStdz              BOC02       GEN01           1   \n",
       "4           AgeStdz              BOC02       GEN02           1   \n",
       "\n",
       "                               GeoLocation  \n",
       "0  (32.84057112200048, -86.63186076199969)  \n",
       "1  (32.84057112200048, -86.63186076199969)  \n",
       "2  (32.84057112200048, -86.63186076199969)  \n",
       "3  (32.84057112200048, -86.63186076199969)  \n",
       "4  (32.84057112200048, -86.63186076199969)  \n",
       "\n",
       "[5 rows x 29 columns]"
      ]
     },
     "execution_count": 12,
     "metadata": {},
     "output_type": "execute_result"
    }
   ],
   "source": [
    "df.head()"
   ]
  },
  {
   "cell_type": "code",
   "execution_count": 13,
   "metadata": {},
   "outputs": [
    {
     "data": {
      "text/plain": [
       "['Year',\n",
       " 'LocationAbbr',\n",
       " 'LocationDesc',\n",
       " 'Datasource',\n",
       " 'PriorityArea1',\n",
       " 'PriorityArea2',\n",
       " 'PriorityArea3',\n",
       " 'PriorityArea4',\n",
       " 'Category',\n",
       " 'Topic',\n",
       " 'Indicator',\n",
       " 'Data_Value_Type',\n",
       " 'Data_Value_Unit',\n",
       " 'Data_Value',\n",
       " 'Data_Value_Alt',\n",
       " 'Data_Value_Footnote_Symbol',\n",
       " 'Data_Value_Footnote',\n",
       " 'Confidence_Limit_Low',\n",
       " 'Confidence_Limit_High',\n",
       " 'Break_Out_Category',\n",
       " 'Break_out',\n",
       " 'CategoryID',\n",
       " 'TopicID',\n",
       " 'IndicatorID',\n",
       " 'Data_Value_TypeID',\n",
       " 'BreakoutCategoryID',\n",
       " 'BreakOutID',\n",
       " 'LocationID',\n",
       " 'GeoLocation']"
      ]
     },
     "execution_count": 13,
     "metadata": {},
     "output_type": "execute_result"
    }
   ],
   "source": [
    "list(df.columns)"
   ]
  },
  {
   "cell_type": "code",
   "execution_count": 14,
   "metadata": {},
   "outputs": [
    {
     "data": {
      "text/plain": [
       "Crude               54600\n",
       "Age-Standardized    31200\n",
       "Name: Data_Value_Type, dtype: int64"
      ]
     },
     "execution_count": 14,
     "metadata": {},
     "output_type": "execute_result"
    }
   ],
   "source": [
    "df['Data_Value_Type'].value_counts()"
   ]
  },
  {
   "cell_type": "code",
   "execution_count": 15,
   "metadata": {},
   "outputs": [
    {
     "data": {
      "text/plain": [
       "Percent (%)    85800\n",
       "Name: Data_Value_Unit, dtype: int64"
      ]
     },
     "execution_count": 15,
     "metadata": {},
     "output_type": "execute_result"
    }
   ],
   "source": [
    "df['Data_Value_Unit'].value_counts()"
   ]
  },
  {
   "cell_type": "code",
   "execution_count": null,
   "metadata": {},
   "outputs": [],
   "source": []
  },
  {
   "cell_type": "code",
   "execution_count": null,
   "metadata": {},
   "outputs": [],
   "source": []
  },
  {
   "cell_type": "code",
   "execution_count": null,
   "metadata": {},
   "outputs": [],
   "source": []
  },
  {
   "cell_type": "code",
   "execution_count": null,
   "metadata": {},
   "outputs": [],
   "source": []
  },
  {
   "cell_type": "code",
   "execution_count": null,
   "metadata": {},
   "outputs": [],
   "source": []
  },
  {
   "cell_type": "markdown",
   "metadata": {},
   "source": [
    "# Mortality\n",
    "CDC"
   ]
  },
  {
   "cell_type": "code",
   "execution_count": 16,
   "metadata": {},
   "outputs": [],
   "source": [
    "# mort15 = pd.read_csv('./mortality/2015_data.csv')\n",
    "\n",
    "# mort14 = pd.read_csv('./mortality/2014_data.csv')\n",
    "\n",
    "# mort13 = pd.read_csv('./mortality/2013_data.csv')\n",
    "\n",
    "# mort12 = pd.read_csv('./mortality/2012_data.csv')\n",
    "\n",
    "# mort11 = pd.read_csv('./mortality/2011_data.csv')"
   ]
  },
  {
   "cell_type": "code",
   "execution_count": null,
   "metadata": {},
   "outputs": [],
   "source": []
  },
  {
   "cell_type": "code",
   "execution_count": null,
   "metadata": {},
   "outputs": [],
   "source": []
  },
  {
   "cell_type": "code",
   "execution_count": null,
   "metadata": {},
   "outputs": [],
   "source": []
  },
  {
   "cell_type": "code",
   "execution_count": null,
   "metadata": {},
   "outputs": [],
   "source": []
  }
 ],
 "metadata": {
  "kernelspec": {
   "display_name": "Python 3",
   "language": "python",
   "name": "python3"
  },
  "language_info": {
   "codemirror_mode": {
    "name": "ipython",
    "version": 3
   },
   "file_extension": ".py",
   "mimetype": "text/x-python",
   "name": "python",
   "nbconvert_exporter": "python",
   "pygments_lexer": "ipython3",
   "version": "3.6.5"
  }
 },
 "nbformat": 4,
 "nbformat_minor": 2
}
